{
 "cells": [
  {
   "cell_type": "markdown",
   "id": "997b83f3-b584-496e-b7bd-2e7c5b56eb32",
   "metadata": {},
   "source": [
    "### DO NOT MODIFY THIS FILE"
   ]
  },
  {
   "cell_type": "markdown",
   "id": "1556e4d4-68b0-4c3b-bd08-247d0b529be9",
   "metadata": {},
   "source": [
    "* 01 - Variational Autoencoder"
   ]
  },
  {
   "cell_type": "code",
   "execution_count": 1,
   "id": "641fa20c-63b6-4f4a-9376-3b9491537e75",
   "metadata": {},
   "outputs": [],
   "source": [
    "from tensorflow.keras.datasets import cifar100\n",
    "from tensorflow.keras.layers import Layer\n",
    "from tensorflow.keras.metrics import binary_accuracy as ba\n",
    "from tensorflow import shape as tf_shape, round as tf_round\n",
    "from matplotlib import pyplot as plt\n",
    "from numpy import float32"
   ]
  },
  {
   "cell_type": "code",
   "execution_count": 2,
   "id": "2dc702a0-c9bb-446c-bd5a-6d189ff96cb6",
   "metadata": {},
   "outputs": [],
   "source": [
    "def init():\n",
    "    return {\"EPOCH\" : 10, \"SEED\" : 42}"
   ]
  },
  {
   "cell_type": "code",
   "execution_count": 3,
   "id": "ef99937d-35aa-4398-84eb-80a437ac8920",
   "metadata": {},
   "outputs": [],
   "source": [
    "def load_cifar_100_data():\n",
    "    (X_train_full, y_train_full), (X_test, y_test) = cifar100.load_data()\n",
    "    X_train_full, X_test = X_train_full.astype(float32) / 255, X_test.astype(float32) / 255\n",
    "    X_train, X_valid = X_train_full[:-5000], X_train_full[-5000:]\n",
    "    y_train, y_valid = y_train_full[:-5000], y_train_full[-5000:]\n",
    "    return (X_train, y_train), (X_valid, y_valid), (X_test, y_test)"
   ]
  },
  {
   "cell_type": "code",
   "execution_count": 4,
   "id": "6affbd89-cccc-43f0-95df-0ab088611618",
   "metadata": {},
   "outputs": [],
   "source": [
    "def accuracy(y_true, y_pred):\n",
    "    return ba(tf_round(y_true), tf_round(y_pred))"
   ]
  },
  {
   "cell_type": "code",
   "execution_count": 5,
   "id": "78993998-2245-45aa-ba34-a31ca28316b6",
   "metadata": {},
   "outputs": [],
   "source": [
    "def plot_image(image):\n",
    "    plt.imshow(image, cmap=\"binary\")\n",
    "    plt.axis(\"off\")"
   ]
  },
  {
   "cell_type": "code",
   "execution_count": 6,
   "id": "50425d7a-6a45-4b0e-b9de-c7a47949bfe4",
   "metadata": {},
   "outputs": [],
   "source": [
    "def show_reconstructions(model, images, n_images=10):\n",
    "    reconstructions = model.predict(images[:n_images])\n",
    "    fig = plt.figure(figsize=(n_images * 1.5, 3))\n",
    "    for image_index in range(n_images):\n",
    "        plt.subplot(2, n_images, 1 + image_index)\n",
    "        plot_image(images[image_index])\n",
    "        plt.subplot(2, n_images, 1 + n_images + image_index)\n",
    "        plot_image(reconstructions[image_index])"
   ]
  },
  {
   "cell_type": "markdown",
   "id": "eaf6acd4-2ad8-4fff-86c6-0934147c92ac",
   "metadata": {},
   "source": [
    "* 02 - Graph Convolutional Neural Network"
   ]
  },
  {
   "cell_type": "code",
   "execution_count": 7,
   "id": "a1d61e79-35d9-4728-b227-80fbd55ad5fc",
   "metadata": {},
   "outputs": [],
   "source": [
    "from torch_geometric.datasets import QM9\n",
    "from plotly import graph_objects as go\n",
    "from periodictable import elements"
   ]
  },
  {
   "cell_type": "code",
   "execution_count": 8,
   "id": "3d9c3679-20f4-4077-9300-874c26f1ff4d",
   "metadata": {},
   "outputs": [],
   "source": [
    "def load_qm9_data():\n",
    "    target_dict = {\n",
    "        0 : \"Dipole moment\",\n",
    "        1 : \"Isotropic polarizability\",\n",
    "        2 : \"Highest occupied molecular orbital energy\",\n",
    "        3 : \"Lowest occupied molecular orbital energy\",\n",
    "        4 : \"Gap between the highest and lowest occupied molecular orbital energy\",\n",
    "        5 : \"Electronic spatial extent\",\n",
    "        6 : \"Zero point vibrational energy\",\n",
    "        7 : \"Internal energy at 0K\",\n",
    "        8 : \"Internal energy at 298.15K\",\n",
    "        9 : \"Enthalpy at 298.15K\",\n",
    "        10 : \"Free energy at 298.15K\",\n",
    "        11 : \"Heat capavity at 298.15K\",\n",
    "        12 : \"Atomization energy at 0K\",\n",
    "        13 : \"Atomization energy at 298.15K\",\n",
    "        14 : \"Atomization enthalpy at 298.15K\",\n",
    "        15 : \"Atomization free energy at 298.15K\",\n",
    "        16 : \"Rotational constant A\",\n",
    "        17 : \"Rotational constant B\",\n",
    "        18 : \"Rotational constant C\"\n",
    "    }\n",
    "    chemical_elements = {el.number : el.name.upper() for el in elements}\n",
    "    return QM9('.')[:80000], target_dict, chemical_elements"
   ]
  },
  {
   "cell_type": "code",
   "execution_count": 9,
   "id": "28c4b4e2-d824-448d-87ce-85a65259c561",
   "metadata": {},
   "outputs": [],
   "source": [
    "def layout(*args, **kwargs):\n",
    "    axis = dict(showbackground=False, showticklabels=False, showgrid=False, zeroline=False, title='')\n",
    "    return dict(\n",
    "        showlegend=False,\n",
    "        scene=dict(aspectmode=\"data\", xaxis=dict(**axis), yaxis=dict(**axis), zaxis=dict(**axis)),\n",
    "        paper_bgcolor=\"rgba(225,225,225)\", # white color\n",
    "        plot_bgcolor=\"rgba(0,0,0,0)\",\n",
    "        margin=dict(l=0, r=0, t=0, b=0)\n",
    "    )"
   ]
  },
  {
   "cell_type": "code",
   "execution_count": 10,
   "id": "ae7cb064-a52e-4b70-9912-f31c6fa765fb",
   "metadata": {},
   "outputs": [],
   "source": [
    "def visualize_molecule(graph, *args, **kwargs):\n",
    "    pos = graph.pos.clone()\n",
    "    edge_index = graph.edge_index\n",
    "    pos = (pos - pos.mean(0)) / pos.std(0)\n",
    "    x, y, z = pos[:, 0], pos[:, 1], pos[:, 2]\n",
    "    \n",
    "    pos = pos[edge_index]\n",
    "    atom_type = (1 + graph.x[:, :5].argmax(-1))*10\n",
    "    data = [go.Scatter3d(x=x, y=y, z=z, mode='markers', marker=dict(size=atom_type, color=atom_type))]\n",
    "    for i in range(edge_index.size(-1)):\n",
    "        line_data = pos[:, i, :]\n",
    "        data.append(go.Scatter3d(x=line_data[:, 0], y=line_data[:, 1], z=line_data[:, 2], \n",
    "                mode=\"lines\", line=dict(color='black', width=3)))\n",
    "\n",
    "    return go.Figure(data=data, layout=layout())"
   ]
  },
  {
   "cell_type": "code",
   "execution_count": 11,
   "id": "c6f1fbc9-0eef-44c3-be93-63ae0a54a616",
   "metadata": {},
   "outputs": [],
   "source": [
    "def show_prediction(attr, target, pred, idx=500, *args, **kwargs):\n",
    "    plt.figure(figsize=(20, 7))\n",
    "    plt.title(attr)\n",
    "    plt.plot(target[:idx], label=\"Target\")\n",
    "    plt.plot(pred[:idx], label=\"Prediction\")\n",
    "    plt.legend()\n",
    "    plt.show()"
   ]
  }
 ],
 "metadata": {
  "kernelspec": {
   "display_name": "Python 3 (ipykernel)",
   "language": "python",
   "name": "python3"
  },
  "language_info": {
   "codemirror_mode": {
    "name": "ipython",
    "version": 3
   },
   "file_extension": ".py",
   "mimetype": "text/x-python",
   "name": "python",
   "nbconvert_exporter": "python",
   "pygments_lexer": "ipython3",
   "version": "3.9.10"
  }
 },
 "nbformat": 4,
 "nbformat_minor": 5
}
